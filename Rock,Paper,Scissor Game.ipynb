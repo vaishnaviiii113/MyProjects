{
 "cells": [
  {
   "cell_type": "code",
   "execution_count": 1,
   "id": "5b727f1c",
   "metadata": {},
   "outputs": [],
   "source": [
    "import random"
   ]
  },
  {
   "cell_type": "code",
   "execution_count": 2,
   "id": "cb6b056e",
   "metadata": {},
   "outputs": [],
   "source": [
    "user_wins=0\n",
    "computer_wins=0\n",
    "\n",
    "options = [\"rock\", \"paper\", \"scissor\"]\n"
   ]
  },
  {
   "cell_type": "code",
   "execution_count": 3,
   "id": "c65b9b17",
   "metadata": {},
   "outputs": [
    {
     "name": "stdout",
     "output_type": "stream",
     "text": [
      "Type ROCK/PAPER/SCISSOR or q to Quitpaper\n",
      "Computer choose paper.\n",
      "You LOST!\n",
      "Type ROCK/PAPER/SCISSOR or q to Quitrock\n",
      "Computer choose scissor.\n",
      "You WON!\n",
      "Type ROCK/PAPER/SCISSOR or q to Quitscissor\n",
      "Computer choose rock.\n",
      "You LOST!\n",
      "Type ROCK/PAPER/SCISSOR or q to Quitscissor\n",
      "Computer choose rock.\n",
      "You LOST!\n",
      "Type ROCK/PAPER/SCISSOR or q to Quitpaper\n",
      "Computer choose rock.\n",
      "You WON!\n",
      "Type ROCK/PAPER/SCISSOR or q to Quitrock\n",
      "Computer choose rock.\n",
      "You LOST!\n",
      "Type ROCK/PAPER/SCISSOR or q to Quitscissor\n",
      "Computer choose scissor.\n",
      "You LOST!\n",
      "Type ROCK/PAPER/SCISSOR or q to Quitpaper\n",
      "Computer choose scissor.\n",
      "You LOST!\n",
      "Type ROCK/PAPER/SCISSOR or q to Quitscissor\n",
      "Computer choose rock.\n",
      "You LOST!\n",
      "Type ROCK/PAPER/SCISSOR or q to Quitq\n",
      "You won 2 times. \n",
      "The computer won 7 times.\n",
      "END\n"
     ]
    }
   ],
   "source": [
    "while True:\n",
    "    user_input= input(\"Type ROCK/PAPER/SCISSOR or q to Quit\").lower()\n",
    "    if user_input == \"q\":\n",
    "            break\n",
    "    if user_input not in options:\n",
    "        continue\n",
    "        \n",
    "    random_number = random.randint(0,2)\n",
    "    #rock is 0, paper is 1 and scissor is 2\n",
    "    \n",
    "    computer_select = options[random_number]\n",
    "    \n",
    "    print(\"Computer choose\", computer_select+ \".\")\n",
    "    \n",
    "    if user_input == \"rock\" and computer_select == \"scissor\":\n",
    "        print(\"You WON!\")\n",
    "        user_wins+=1\n",
    "        \n",
    "    elif user_input == \"paper\" and computer_select == \"rock\":\n",
    "        print(\"You WON!\")\n",
    "        user_wins+=1\n",
    "        \n",
    "    elif user_input == \"scissor\" and computer_select == \"paper\":\n",
    "        print(\"You WON!\")\n",
    "        user_wins+=1\n",
    "    else:\n",
    "        print(\"You LOST!\")\n",
    "        computer_wins+=1\n",
    "print(\"You won\", user_wins,\"times. \")\n",
    "print(\"The computer won\", computer_wins, \"times.\" )\n",
    "print(\"END\")        \n",
    "    \n",
    "    "
   ]
  }
 ],
 "metadata": {
  "kernelspec": {
   "display_name": "Python 3 (ipykernel)",
   "language": "python",
   "name": "python3"
  },
  "language_info": {
   "codemirror_mode": {
    "name": "ipython",
    "version": 3
   },
   "file_extension": ".py",
   "mimetype": "text/x-python",
   "name": "python",
   "nbconvert_exporter": "python",
   "pygments_lexer": "ipython3",
   "version": "3.9.7"
  }
 },
 "nbformat": 4,
 "nbformat_minor": 5
}
