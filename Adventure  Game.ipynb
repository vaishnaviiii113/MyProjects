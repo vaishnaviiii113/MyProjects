{
 "cells": [
  {
   "cell_type": "code",
   "execution_count": 1,
   "id": "fad98960",
   "metadata": {},
   "outputs": [
    {
     "name": "stdout",
     "output_type": "stream",
     "text": [
      "Enter your name:   sam\n",
      "Hello! Welcome sam to this Adventure!\n",
      "You are on a Dirt road, it has come to an end.Which way you would like to go..?right\n",
      "You came to a bridge, its look wobbly, do you want to cross the bridge or headback?Type cross to cross it and back to headback.cross\n",
      "You cross the bridge and meet a stranger. Do you want to talk to them(Yes/No)?no\n",
      "You ignore the stranger, he got offended and you lose.\n",
      "Thankyou for playing this game. Hope you enjoyed sam\n"
     ]
    }
   ],
   "source": [
    "name = input(\"Enter your name:   \")\n",
    "\n",
    "print(\"Hello! Welcome\", name, \"to this Adventure!\")\n",
    "\n",
    "answer = input(\"You are on a Dirt road, it has come to an end.Which way you would like to go..?\").lower()\n",
    "\n",
    "if answer == \"left\":\n",
    "    answer = input(\"You come to a river, you can walk around it or swin across? Type walk to walk around and swim to swim across:  \").lower()\n",
    "    \n",
    "    \n",
    "    if answer == \"swim\":\n",
    "        print(\"You swam across the river and were eaten by a crocodile.\")\n",
    "    elif answer == \"walk\":\n",
    "        print(\"You walked for many miles, ran out of water and you lost the game\")    \n",
    "    else:\n",
    "        print(\"Not a valid answer. You lose the Game\")\n",
    "        \n",
    "        \n",
    "elif answer == \"right\":\n",
    "    answer = input(\"You came to a bridge, its look wobbly, do you want to cross the bridge or headback?Type cross to cross it and back to headback.\").lower()\n",
    "    \n",
    "    if answer == \"back\":\n",
    "        print(\"You go back to the main road and you lose.\")\n",
    "    elif answer == \"cross\":\n",
    "        answer = input(\"You cross the bridge and meet a stranger. Do you want to talk to them(Yes/No)?\")\n",
    "        if answer == \"yes\":\n",
    "            print(\"You talk to the stranger, they gave gold. You WIN!\")\n",
    "        \n",
    "        elif answer == \"no\":\n",
    "            print(\"You ignore the stranger, he got offended and you lose.\")\n",
    "            \n",
    "        else:\n",
    "            print(\"Not a valid answer. You lose the Game\")    \n",
    "    else:\n",
    "        print(\"Not a valid answer. You lose the Game\")\n",
    "        \n",
    "        \n",
    "else:\n",
    "    print(\"Not a valid answer. You lose the Game\")\n",
    "    \n",
    "    \n",
    "print(\"Thankyou for playing this game. Hope you enjoyed\" , name)"
   ]
  },
  {
   "cell_type": "code",
   "execution_count": 2,
   "id": "d1dc06b5",
   "metadata": {},
   "outputs": [
    {
     "name": "stdout",
     "output_type": "stream",
     "text": [
      "Enter your name:   sid\n",
      "Hello! Welcome sid to this Adventure!\n",
      "You are on a Dirt road, it has come to an end.Which way you would like to go..?left\n",
      "You come to a river, you can walk around it or swin across? Type walk to walk around and swim to swim across:  swim\n",
      "You swam across the river and were eaten by a crocodile.\n",
      "Thankyou for playing this game. Hope you enjoyed sid\n"
     ]
    }
   ],
   "source": [
    "name = input(\"Enter your name:   \")\n",
    "\n",
    "print(\"Hello! Welcome\", name, \"to this Adventure!\")\n",
    "\n",
    "answer = input(\"You are on a Dirt road, it has come to an end.Which way you would like to go..?\").lower()\n",
    "\n",
    "if answer == \"left\":\n",
    "    answer = input(\"You come to a river, you can walk around it or swin across? Type walk to walk around and swim to swim across:  \").lower()\n",
    "    \n",
    "    \n",
    "    if answer == \"swim\":\n",
    "        print(\"You swam across the river and were eaten by a crocodile.\")\n",
    "    elif answer == \"walk\":\n",
    "        print(\"You walked for many miles, ran out of water and you lost the game\")    \n",
    "    else:\n",
    "        print(\"Not a valid answer. You lose the Game\")\n",
    "        \n",
    "        \n",
    "elif answer == \"right\":\n",
    "    answer = input(\"You came to a bridge, its look wobbly, do you want to cross the bridge or headback?Type cross to cross it and back to headback.\").lower()\n",
    "    \n",
    "    if answer == \"back\":\n",
    "        print(\"You go back to the main road and you lose.\")\n",
    "    elif answer == \"cross\":\n",
    "        answer = input(\"You cross the bridge and meet a stranger. Do you want to talk to them(Yes/No)?\")\n",
    "        if answer == \"yes\":\n",
    "            print(\"You talk to the stranger, they gave gold. You WIN!\")\n",
    "        \n",
    "        elif answer == \"no\":\n",
    "            print(\"You ignore the stranger, he got offended and you lose.\")\n",
    "            \n",
    "        else:\n",
    "            print(\"Not a valid answer. You lose the Game\")    \n",
    "    else:\n",
    "        print(\"Not a valid answer. You lose the Game\")\n",
    "        \n",
    "        \n",
    "else:\n",
    "    print(\"Not a valid answer. You lose the Game\")\n",
    "    \n",
    "    \n",
    "print(\"Thankyou for playing this game. Hope you enjoyed\" , name)"
   ]
  }
 ],
 "metadata": {
  "kernelspec": {
   "display_name": "Python 3 (ipykernel)",
   "language": "python",
   "name": "python3"
  },
  "language_info": {
   "codemirror_mode": {
    "name": "ipython",
    "version": 3
   },
   "file_extension": ".py",
   "mimetype": "text/x-python",
   "name": "python",
   "nbconvert_exporter": "python",
   "pygments_lexer": "ipython3",
   "version": "3.9.7"
  }
 },
 "nbformat": 4,
 "nbformat_minor": 5
}
